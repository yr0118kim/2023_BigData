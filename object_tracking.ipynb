{
 "cells": [
  {
   "cell_type": "code",
   "execution_count": null,
   "metadata": {},
   "outputs": [],
   "source": [
    "import cv2\n",
    "import numpy as np\n",
    "\n",
    "def object_tracking():\n",
    "    frame = cv2.imread()\n",
    "    frame = cv2.resize(frame,(604,480))\n",
    "\n",
    "    cv2.imshow(\"JetsonNano_OT_Original\",frame)\n",
    "\n",
    "    hsv = cv2.cvtColor(frame,cv2.COLOR_BGR2HSV)\n",
    "    cv2.imshow(\"JetsonNano_OT_HSV\")\n",
    "    \n",
    "    lower_red = np.arra([120,50,0])\n",
    "    upper_red = np.array([255,255,255])\n",
    "    mask = cv2.inRange(hsv,lower_red,upper_red)\n",
    "    cv2.imshow(\"JetsonNano_OT_Mask\",mask)\n",
    "\n",
    "    res = cv2.bitwise_and(frame,frame,mask = mask)\n",
    "\n",
    "    cv2.imshow(\"JetsonNano_OT_Result\",res)\n",
    "\n",
    "    cv2.waitKey(\n",
    "    0\n",
    "    )\n",
    "    cv2.destroyAllWindows()"
   ]
  }
 ],
 "metadata": {
  "language_info": {
   "name": "python"
  },
  "orig_nbformat": 4
 },
 "nbformat": 4,
 "nbformat_minor": 2
}
