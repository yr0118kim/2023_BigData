{
 "cells": [
  {
   "cell_type": "code",
   "execution_count": 1,
   "metadata": {},
   "outputs": [],
   "source": [
    "import cv2\n",
    "import numpy as np\n",
    "from math import sqrt,pow\n",
    "\n",
    "mode = 'char'\n",
    "drawing = False\n",
    "ix,iy = -1,-1\n",
    "img = np.zeros((512,512,3),np.uint8)+255\n",
    "img.fill(255)\n",
    "\n",
    "def draw_figure(event,x,y,flags,param):\n",
    "    global ix,iy,drawing,mode\n",
    "    if event == cv2.EVENT_LBUTTONDOWN:\n",
    "        drawing = True\n",
    "        ix,iy = x,y\n",
    "    elif event == cv2.EVENT_MOUSEMOVE:\n",
    "        if drawing == True:\n",
    "            if mode == 'r':\n",
    "                cv2.rectangle(img,(ix,iy),(x,y),(255,0,0),-1)\n",
    "    elif event == cv2.EVENT_LBUTTONUP:\n",
    "        drawing = False\n",
    "        if mode == 'r':\n",
    "            cv2.rectangle(img,(ix,iy),(x,y),(255,0,0),-1)\n",
    "        elif mode == 'l':\n",
    "            cv2.line(img,(ix,iy),(x,y),(255,0,255),2)\n",
    "        elif mode =='c':\n",
    "            radius = int(sqrt(pow(x-ix,2)+pow(y-iy,2))/2)\n",
    "            cv2.circle(img,(x,y),radius,(0,0,255),-1)\n",
    "\n",
    "def mouse_draw_shape():\n",
    "    global img,mode\n",
    "    cv2.namedWindow('JetsonNano_MouseDrawing')\n",
    "    cv2.setMouseCallback('JetsonNano_MouseDrawing',draw_figure)\n",
    "\n",
    "    while True:\n",
    "        cv2.imshow('JetsonNano_MouseDrawing',img)\n",
    "\n",
    "        key = cv2.waitKey(1) & 0xFF\n",
    "\n",
    "        if key == ord('r'):\n",
    "            mode = 'r'\n",
    "        elif key == ord('c'):\n",
    "            mode = 'c'\n",
    "        elif key == ord('l'):\n",
    "            mode = 'l'\n",
    "        elif key == ord('e'):\n",
    "            img = np.zeros((512,512,3),np.uint8)\n",
    "        elif key == 27:\n",
    "            break\n",
    "        else:\n",
    "            continue\n",
    "\n",
    "mouse_draw_shape()"
   ]
  }
 ],
 "metadata": {
  "kernelspec": {
   "display_name": "Python 3",
   "language": "python",
   "name": "python3"
  },
  "language_info": {
   "codemirror_mode": {
    "name": "ipython",
    "version": 3
   },
   "file_extension": ".py",
   "mimetype": "text/x-python",
   "name": "python",
   "nbconvert_exporter": "python",
   "pygments_lexer": "ipython3",
   "version": "3.10.10"
  },
  "orig_nbformat": 4
 },
 "nbformat": 4,
 "nbformat_minor": 2
}
