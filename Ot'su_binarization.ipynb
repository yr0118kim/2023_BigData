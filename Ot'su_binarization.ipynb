{
 "cells": [
  {
   "cell_type": "code",
   "execution_count": null,
   "metadata": {},
   "outputs": [],
   "source": [
    "import cv2\n",
    "import numpy as np\n",
    "from matplotlib import pyplot as plt\n",
    "def otsus_thresholding():\n",
    "    img = cv2.imread(FILENAME, cv2.IMREAD_GRAYSCALE)\n",
    "    th_max = 255\n",
    "    ret_1, thresh_1 = cv2.threshold(img, 110, th_max, cv2.THRESH_BINARY)\n",
    "    ret_2, thresh_2 = cv2.threshold(img, 0, th_max, cv2.THRESH_BINARY + cv2.THRESH_OTSU)\n",
    "    blur = cv2.GaussianBlur(img, (7, 7), 0)\n",
    "    ret_3, thresh_3 = cv2.threshold(blur, 0, th_max, cv2.THRESH_BINARY + cv2.THRESH_OTSU)\n",
    "    titles = ['ORIGINAL NOISY IMAGE', 'HISTOGRAM', 'GLOBAL THRESHOLDING (v=110)', 'ORIGINAL NOISY IMAGE’,\n",
    "    'HISTOGRAM', \"OTSU's THRESHOLDING\", 'GAUSSIAN FILTERED IMAGE', 'HISTOGRAM', \"OTSU's THRESHOLDING\"]\n",
    "\n",
    "    images = [img, 0, thresh_1, img, 0, thresh_2, blur, 0, thresh_3]\n",
    "    fig = plt.figure()\n",
    "    fig.canvas.set_window_title(\"JetsonNano_Thresholding\")\n",
    "    for i in range(3):\n",
    "        plt.subplot(3, 3, i*3+1), plt.imshow(images[i*3], 'gray')\n",
    "        plt.title(titles[i*3]), plt.xticks([]), plt.yticks([])\n",
    "        plt.subplot(3, 3, i*3+2), plt.hist(images[i*3].ravel(), 256)\n",
    "        plt.title(titles[i*3+1]), plt.xticks([]), plt.yticks([])\n",
    "        plt.subplot(3, 3, i*3+3), plt.imshow(images[i*3+2], 'gray')\n",
    "        plt.title(titles[i*3+2]), plt.xticks([]), plt.yticks([])\n",
    "        plt.show()\n",
    "\n"
   ]
  }
 ],
 "metadata": {
  "language_info": {
   "name": "python"
  },
  "orig_nbformat": 4
 },
 "nbformat": 4,
 "nbformat_minor": 2
}
