{
 "cells": [
  {
   "cell_type": "code",
   "execution_count": 1,
   "metadata": {},
   "outputs": [],
   "source": [
    "import cv2\n",
    "import numpy as np\n",
    "from matplotlib import pyplot\n",
    "\n",
    "def image_translation():\n",
    "    img = cv2.imread('C://Users//user//python//apple.jpg',cv2.IMREAD_COLOR)\n",
    "    rows, cols = img.shape[:2]\n",
    "    img = cv2.rectangle(img,(0,0),(cols-1,rows-1),(255,255,255),1)\n",
    "\n",
    "    M = np.float32([[1,0,10],[0,1,20]])\n",
    "    dst = cv2.warpAffine(img,M,(cols,rows))\n",
    "\n",
    "    cv2.imshow('JetsonNano_Original',img)\n",
    "    cv2.imshow('JetsonNano_Translation',dst)\n",
    "\n",
    "    cv2.waitKey(0)\n",
    "    cv2.destroyAllWindows()\n",
    "\n",
    "image_translation()"
   ]
  }
 ],
 "metadata": {
  "kernelspec": {
   "display_name": "Python 3",
   "language": "python",
   "name": "python3"
  },
  "language_info": {
   "codemirror_mode": {
    "name": "ipython",
    "version": 3
   },
   "file_extension": ".py",
   "mimetype": "text/x-python",
   "name": "python",
   "nbconvert_exporter": "python",
   "pygments_lexer": "ipython3",
   "version": "3.10.10"
  },
  "orig_nbformat": 4
 },
 "nbformat": 4,
 "nbformat_minor": 2
}
