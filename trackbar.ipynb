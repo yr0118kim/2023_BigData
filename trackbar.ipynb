{
 "cells": [
  {
   "cell_type": "code",
   "execution_count": null,
   "metadata": {},
   "outputs": [],
   "source": [
    "import cv2\n",
    "import numpy as np\n",
    "\n",
    "def nothing(x):\n",
    "    pass\n",
    "\n",
    "def trackbar():\n",
    "    img = np.zeros((300,512,3),np.uint8)\n",
    "    cv2.namedWindow('JetsonNano_Trackbar',0,255,nothing)\n",
    "    cv2.createTrackbar('R','JetsonNano_Trackbar',0,255,nothing)\n",
    "    cv2.createTrackbar('G','JetsonNano_Trackbar',0,255,nothing)\n",
    "    cv2.createTrackbar('B','JetsonNano_Trackbar',0,255,nothing)\n",
    "\n",
    "    switch = '0:0FF\\n1:On'\n",
    "    cv2.createTrackbar(switch,'JetsonNano_Trackbar',1,1,nothing)\n",
    "\n",
    "    while(1):\n",
    "        cv2.imshow('JetsonNano_Trackbar',img)\n",
    "        if cv2.waitKey(1) & 0xFF == 27:\n",
    "            break\n",
    "        r = cv2.getTrackbarPos('R','JetsonNano_Trackbar')\n",
    "        g = cv2.getTrackbarPos('G','JetsonNano_Trackbar')\n",
    "        b = cv2.getTrackbarPos('B','JetsonNano_Trackbar')\n",
    "        s = cv2.getTrackbarPos(switch,'JetsonNano_Trackbar')\n",
    "\n",
    "        if s== 0:\n",
    "            img[:] = 0\n",
    "        else:\n",
    "            img[:] = [b,g,r]\n",
    "    cv2.destroyAllWindows()"
   ]
  }
 ],
 "metadata": {
  "language_info": {
   "name": "python"
  },
  "orig_nbformat": 4
 },
 "nbformat": 4,
 "nbformat_minor": 2
}
