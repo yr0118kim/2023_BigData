{
 "cells": [
  {
   "cell_type": "code",
   "execution_count": null,
   "metadata": {},
   "outputs": [],
   "source": [
    "import cv2\n",
    "import numpy as np"
   ]
  },
  {
   "cell_type": "code",
   "execution_count": null,
   "metadata": {},
   "outputs": [],
   "source": [
    "def all():\n",
    "    img = np.zeros((512,512,3),np.uint8)\n",
    "    img.fill(255)\n",
    "    img = cv2.putText(img,'8Lose choiheegun',(100,100),cv2.FONT_HERSHEY_PLAIN,10,(0,180,256),0)\n",
    "    img = cv2.rectangle(img,(100,100),(500,400),(255,255,0),5)\n",
    "    img = cv2.line(img,(300,0),(100,511),(0,255,0),5)\n",
    "    img = cv2.circle(img,(100,150),100,(255,255,0),2)\n",
    "    cv2.imshow('JetsonNano_PutText',img)\n",
    "    cv2.waitKey(0)\n",
    "    cv2.destroyAllWindows()"
   ]
  },
  {
   "cell_type": "code",
   "execution_count": null,
   "metadata": {},
   "outputs": [],
   "source": []
  },
  {
   "cell_type": "code",
   "execution_count": null,
   "metadata": {},
   "outputs": [],
   "source": [
    "def text():\n",
    "    img = np.zeros((512,512,3),np.uint8)\n",
    "    img.fill(255)\n",
    "    img = cv2.putText(img,'8Lose choiheegun',(100,400),cv2.FONT_HERSHEY_PLAIN,50,(0,180,256),0)\n",
    "\n",
    "    cv2.imshow('JetsonNano_PutText',img)\n",
    "    cv2.waitKey(0)\n",
    "    cv2.destroyAllWindows()"
   ]
  },
  {
   "cell_type": "code",
   "execution_count": null,
   "metadata": {},
   "outputs": [],
   "source": [
    "def line():\n",
    "    img = np.zeros((512,512,3),np.uint8)\n",
    "    img.fill(255)\n",
    "    img = cv2.line(img,(300,0),(100,511),(0,255,0),5)\n",
    "    cv2.imshow('JetsonNano_Line',img)\n",
    "    cv2.waitKey(0)\n",
    "    cv2.destroyAllWindows()"
   ]
  },
  {
   "cell_type": "code",
   "execution_count": null,
   "metadata": {},
   "outputs": [],
   "source": []
  },
  {
   "cell_type": "code",
   "execution_count": null,
   "metadata": {},
   "outputs": [],
   "source": [
    "def rectangle():\n",
    "    img = np.zeros((512,512,3),np.uint8)\n",
    "    img.fill(255)\n",
    "    img = cv2.rectangle(img,(100,150),(500,300),(255,255,0),5)\n",
    "    cv2.imshow('JetsonNano_Rectangle',img)\n",
    "    cv2.waitKey(0)\n",
    "    cv2.destroyAllWindows()"
   ]
  },
  {
   "cell_type": "code",
   "execution_count": null,
   "metadata": {},
   "outputs": [],
   "source": [
    "def circle():\n",
    "    img = np.zeros((512,512,3),np.uint8)\n",
    "    img.fill(255)\n",
    "    img = cv2.circle(img,(100,150),100,(255,255,0),2)\n",
    "    cv2.imshow('JetsonNano_Circle',img)\n",
    "    cv2.waitKey(0)\n",
    "    cv2.destroyAllWindows()"
   ]
  },
  {
   "cell_type": "code",
   "execution_count": null,
   "metadata": {},
   "outputs": [],
   "source": [
    "def ellipse():\n",
    "    img = np.zeros((512,512,3),np.uint8)\n",
    "    img.fill(255)\n",
    "    img = cv2.ellipse(img,(256,256),(100,100),0,0,275,(255,255,255),-1)\n",
    "    cv2.imshow('',img)\n",
    "    cv2.waitKey(0)\n",
    "    cv2.destroyAllWindows()"
   ]
  },
  {
   "cell_type": "code",
   "execution_count": null,
   "metadata": {},
   "outputs": [],
   "source": [
    "# line()\n",
    "# rectangle()\n",
    "# circle()\n",
    "# ellipse()\n",
    "# text()\n",
    "\n",
    "# all()"
   ]
  },
  {
   "cell_type": "code",
   "execution_count": null,
   "metadata": {},
   "outputs": [],
   "source": [
    "from math import sqrt,pow\n",
    "\n",
    "mode = 'char'\n",
    "drawing = False\n",
    "ix,iy = -1,-1\n",
    "img = np.zeros((512,512,3),np.uint8)+255\n",
    "img.fill(255)\n",
    "\n",
    "def draw_figure(event,x,y,flags,param):\n",
    "    global ix,iy,drawing,mode\n",
    "    if event == cv2.EVENT_LBUTTONDOWN:\n",
    "        drawing = True\n",
    "        ix,iy = x,y\n",
    "    elif event == cv2.EVENT_MOUSEMOVE:\n",
    "        if drawing == True:\n",
    "            if mode == 'r':\n",
    "                cv2.rectangle(img,(ix,iy),(x,y),(255,0,0),-1)\n",
    "    elif event == cv2.EVENT_LBUTTONUP:\n",
    "        drawing = False\n",
    "        if mode == 'r':\n",
    "            cv2.rectangle(img,(ix,iy),(x,y),(255,0,0),-1)\n",
    "        elif mode == 'l':\n",
    "            cv2.line(img,(ix,iy),(x,y),(255,0,255),2)\n",
    "        elif mode =='c':\n",
    "            radius = int(sqrt(pow(x-ix,2)+pow(y-iy,2))/2)\n",
    "            cv2.circle(img,(x,y),radius,(0,0,255),-1)\n",
    "\n",
    "def mouse_draw_shape():\n",
    "    global img,mode\n",
    "    cv2.namedWindow('JetsonNano_MouseDrawing')\n",
    "    cv2.setMouseCallback('JetsonNano_MouseDrawing',draw_figure)\n",
    "\n",
    "    while True:\n",
    "        cv2.imshow('JetsonNano_MouseDrawing',img)\n",
    "\n",
    "        key = cv2.waitKey(1) & 0xFF\n",
    "\n",
    "        if key == ord('r'):\n",
    "            mode = 'r'\n",
    "        elif key == ord('c'):\n",
    "            mode = 'c'\n",
    "        elif key == ord('l'):\n",
    "            mode = 'l'\n",
    "        elif key == ord('e'):\n",
    "            img = np.zeros((512,512,3),np.uint8)\n",
    "        elif key == 27:\n",
    "            break\n",
    "        else:\n",
    "            continue\n",
    "\n",
    "mouse_draw_shape()"
   ]
  },
  {
   "cell_type": "code",
   "execution_count": null,
   "metadata": {},
   "outputs": [],
   "source": []
  }
 ],
 "metadata": {
  "kernelspec": {
   "display_name": "Python 3",
   "language": "python",
   "name": "python3"
  },
  "language_info": {
   "codemirror_mode": {
    "name": "ipython",
    "version": 3
   },
   "file_extension": ".py",
   "mimetype": "text/x-python",
   "name": "python",
   "nbconvert_exporter": "python",
   "pygments_lexer": "ipython3",
   "version": "3.10.10"
  },
  "orig_nbformat": 4
 },
 "nbformat": 4,
 "nbformat_minor": 2
}
