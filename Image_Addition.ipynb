{
 "cells": [
  {
   "cell_type": "code",
   "execution_count": 1,
   "metadata": {},
   "outputs": [
    {
     "ename": "error",
     "evalue": "OpenCV(4.8.0) D:\\a\\opencv-python\\opencv-python\\opencv\\modules\\highgui\\src\\window_w32.cpp:2561: error: (-27:Null pointer) NULL window: 'JetsonNano_Image_Blending' in function 'cvGetTrackbarPos'\n",
     "output_type": "error",
     "traceback": [
      "\u001b[1;31m---------------------------------------------------------------------------\u001b[0m",
      "\u001b[1;31merror\u001b[0m                                     Traceback (most recent call last)",
      "\u001b[1;32mc:\\Users\\user\\python\\Image_Addition.ipynb Cell 1\u001b[0m line \u001b[0;36m1\n\u001b[0;32m     <a href='vscode-notebook-cell:/c%3A/Users/user/python/Image_Addition.ipynb#W0sZmlsZQ%3D%3D?line=14'>15</a>\u001b[0m     img_2 \u001b[39m=\u001b[39m cv2\u001b[39m.\u001b[39mresize(img_2(\u001b[39m512\u001b[39m,\u001b[39m512\u001b[39m))\n\u001b[0;32m     <a href='vscode-notebook-cell:/c%3A/Users/user/python/Image_Addition.ipynb#W0sZmlsZQ%3D%3D?line=16'>17</a>\u001b[0m \u001b[39mwhile\u001b[39;00m(\u001b[39mTrue\u001b[39;00m):\n\u001b[1;32m---> <a href='vscode-notebook-cell:/c%3A/Users/user/python/Image_Addition.ipynb#W0sZmlsZQ%3D%3D?line=17'>18</a>\u001b[0m     w \u001b[39m=\u001b[39m cv2\u001b[39m.\u001b[39;49mgetTrackbarPos(\u001b[39m'\u001b[39;49m\u001b[39mW\u001b[39;49m\u001b[39m'\u001b[39;49m,\u001b[39m'\u001b[39;49m\u001b[39mJetsonNano_Image_Blending\u001b[39;49m\u001b[39m'\u001b[39;49m)\n\u001b[0;32m     <a href='vscode-notebook-cell:/c%3A/Users/user/python/Image_Addition.ipynb#W0sZmlsZQ%3D%3D?line=18'>19</a>\u001b[0m     dst \u001b[39m=\u001b[39m cv2\u001b[39m.\u001b[39maddWeighted(img_1,\u001b[39mfloat\u001b[39m(\u001b[39m100\u001b[39m\u001b[39m-\u001b[39mw)\u001b[39m*\u001b[39m\u001b[39m0.01\u001b[39m,img_2,\u001b[39mfloat\u001b[39m(w)\u001b[39m*\u001b[39m\u001b[39m0.01\u001b[39m,\u001b[39m0\u001b[39m)\n\u001b[0;32m     <a href='vscode-notebook-cell:/c%3A/Users/user/python/Image_Addition.ipynb#W0sZmlsZQ%3D%3D?line=19'>20</a>\u001b[0m     cv2\u001b[39m.\u001b[39mimshow(\u001b[39m'\u001b[39m\u001b[39mJetsonNano_Image_Blending\u001b[39m\u001b[39m'\u001b[39m,dst)\n",
      "\u001b[1;31merror\u001b[0m: OpenCV(4.8.0) D:\\a\\opencv-python\\opencv-python\\opencv\\modules\\highgui\\src\\window_w32.cpp:2561: error: (-27:Null pointer) NULL window: 'JetsonNano_Image_Blending' in function 'cvGetTrackbarPos'\n"
     ]
    }
   ],
   "source": [
    "import cv2\n",
    "\n",
    "def nothing(x):\n",
    "    pass\n",
    "\n",
    "def image_blending():\n",
    "    cv2.namedWindow('JetsonNano_Image_Blending')\n",
    "    cv2.createTrackbar('W','JetsonNano_Image_Blending',0,100,nothing)\n",
    "\n",
    "    img_1 = cv2.imread('C://Users//user//python//apple.jpg')\n",
    "    \n",
    "    img_1 = cv2.resize(img_1(512,512))\n",
    "    img_2 = cv2.imread('C://Users//user//python//apple.jpg')\n",
    "    \n",
    "    img_2 = cv2.resize(img_2(512,512))\n",
    "    \n",
    "    while(True):\n",
    "        w = cv2.getTrackbarPos('W','JetsonNano_Image_Blending')\n",
    "        dst = cv2.addWeighted(img_1,float(100-w)*0.01,img_2,float(w)*0.01,0)\n",
    "        cv2.imshow('JetsonNano_Image_Blending',dst)\n",
    "        if cv2.waitKey(1) & 0xFF == 27:\n",
    "            break\n",
    "    \n",
    "    cv2.destroyAllWindows()\n",
    "\n",
    "\n",
    "\n",
    "image_blending()"
   ]
  }
 ],
 "metadata": {
  "kernelspec": {
   "display_name": "Python 3",
   "language": "python",
   "name": "python3"
  },
  "language_info": {
   "codemirror_mode": {
    "name": "ipython",
    "version": 3
   },
   "file_extension": ".py",
   "mimetype": "text/x-python",
   "name": "python",
   "nbconvert_exporter": "python",
   "pygments_lexer": "ipython3",
   "version": "3.10.10"
  },
  "orig_nbformat": 4
 },
 "nbformat": 4,
 "nbformat_minor": 2
}
